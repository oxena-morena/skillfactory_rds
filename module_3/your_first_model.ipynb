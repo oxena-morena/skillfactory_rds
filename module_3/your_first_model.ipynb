{
 "cells": [
  {
   "cell_type": "markdown",
   "metadata": {},
   "source": [
    "# Загрузка Pandas и очистка данных"
   ]
  },
  {
   "cell_type": "code",
   "execution_count": 1,
   "metadata": {},
   "outputs": [],
   "source": [
    "import pandas as pd\n",
    "#Необходимые библиотеки\n",
    "import ast\n",
    "from datetime import datetime, timedelta \n",
    "\n",
    "# Иструмент для кодирования\n",
    "from sklearn.preprocessing import LabelEncoder\n",
    "import re"
   ]
  },
  {
   "cell_type": "markdown",
   "metadata": {},
   "source": [
    "\n",
    " Restaurant_id — идентификационный номер ресторана / сети ресторанов;\n",
    " City — город, в котором находится ресторан;\n",
    " Cuisine Style — кухня или кухни, к которым можно отнести блюда, предлагаемые в ресторане;\n",
    " Ranking — место, которое занимает данный ресторан среди всех ресторанов своего города;\n",
    " Rating — рейтинг ресторана по данным TripAdvisor (именно это значение должна будет предсказывать модель);\n",
    " Price Range — диапазон цен в ресторане;\n",
    " Number of Reviews — количество отзывов о ресторане;\n",
    " Reviews — данные о двух отзывах, которые отображаются на сайте ресторана;\n",
    " URL_TA — URL страницы ресторана на TripAdvisor;\n",
    " ID_TA — идентификатор ресторана в базе данных TripAdvisor.\n"
   ]
  },
  {
   "cell_type": "code",
   "execution_count": 2,
   "metadata": {},
   "outputs": [
    {
     "name": "stdout",
     "output_type": "stream",
     "text": [
      "<class 'pandas.core.frame.DataFrame'>\n",
      "RangeIndex: 40000 entries, 0 to 39999\n",
      "Data columns (total 10 columns):\n",
      " #   Column             Non-Null Count  Dtype  \n",
      "---  ------             --------------  -----  \n",
      " 0   Restaurant_id      40000 non-null  object \n",
      " 1   City               40000 non-null  object \n",
      " 2   Cuisine Style      30717 non-null  object \n",
      " 3   Ranking            40000 non-null  float64\n",
      " 4   Rating             40000 non-null  float64\n",
      " 5   Price Range        26114 non-null  object \n",
      " 6   Number of Reviews  37457 non-null  float64\n",
      " 7   Reviews            40000 non-null  object \n",
      " 8   URL_TA             40000 non-null  object \n",
      " 9   ID_TA              40000 non-null  object \n",
      "dtypes: float64(3), object(7)\n",
      "memory usage: 3.1+ MB\n"
     ]
    }
   ],
   "source": [
    "df= pd.read_csv('main_task.csv')\n",
    "df.info()"
   ]
  },
  {
   "cell_type": "code",
   "execution_count": 3,
   "metadata": {},
   "outputs": [],
   "source": [
    "# Разбиваем датафрейм на части, необходимые для обучения и тестирования модели  \n",
    "    # Х - данные с информацией о ресторанах, у - целевая переменная (рейтинги ресторанов)  \n",
    "X = df.drop(['Restaurant_id', 'Rating'], axis = 1)  \n",
    "y = df['Rating']  \n",
    "      \n",
    "    # Загружаем специальный инструмент для разбивки:  \n",
    "from sklearn.model_selection import train_test_split  \n",
    "      \n",
    "    # Наборы данных с меткой \"train\" будут использоваться для обучения модели, \"test\" - для тестирования.  \n",
    "    # Для тестирования мы будем использовать 25% от исходного датасета.  \n",
    "X_train, X_test, y_train, y_test = train_test_split(X, y, test_size=0.25)\n",
    "    "
   ]
  },
  {
   "cell_type": "code",
   "execution_count": 4,
   "metadata": {},
   "outputs": [],
   "source": [
    "# Ваш код по очистке данных и генерации новых признаков\n",
    "# При необходимости добавьте ячейки"
   ]
  },
  {
   "cell_type": "markdown",
   "metadata": {},
   "source": [
    "Количество столбцов - 10 \n",
    "В числовом формате:Ranking, Rating, Number of Reviews.\n",
    "\n",
    "Содержат пропущенные (None) значения: Cuisine Style, Price Range, Number of Reviews \n",
    "\n",
    "\n"
   ]
  },
  {
   "cell_type": "code",
   "execution_count": 5,
   "metadata": {},
   "outputs": [],
   "source": [
    "#переименуем столбцы\n",
    "df.rename(columns={\n",
    "    'Restaurant_id': 'restaurant_id',\n",
    "    'City': 'city',\n",
    "    'Cuisine Style': 'cuisine_style',\n",
    "    'Ranking': 'ranking',\n",
    "    'Rating': 'rating',\n",
    "    'Price Range': 'price_range',\n",
    "    'Number of Reviews': 'number_of_reviews',\n",
    "    'Reviews': 'reviews',\n",
    "    'URL_TA': 'url_ta',\n",
    "    'ID_TA': 'id_ta'\n",
    "    }, inplace=True)\n"
   ]
  },
  {
   "cell_type": "markdown",
   "metadata": {},
   "source": [
    "Заполним медианой пропуски в количестве отзывов:"
   ]
  },
  {
   "cell_type": "code",
   "execution_count": 6,
   "metadata": {},
   "outputs": [
    {
     "data": {
      "text/plain": [
       "False    37457\n",
       "True      2543\n",
       "Name: number_of_reviews_NaN, dtype: int64"
      ]
     },
     "execution_count": 6,
     "metadata": {},
     "output_type": "execute_result"
    }
   ],
   "source": [
    "df['number_of_reviews_NaN']=pd.isna(df['number_of_reviews'])\n",
    "df['number_of_reviews_NaN'].value_counts()\n"
   ]
  },
  {
   "cell_type": "code",
   "execution_count": 7,
   "metadata": {},
   "outputs": [],
   "source": [
    "df['number_of_reviews']=df['number_of_reviews'].fillna(df['number_of_reviews'].median())"
   ]
  },
  {
   "cell_type": "code",
   "execution_count": 8,
   "metadata": {},
   "outputs": [
    {
     "data": {
      "text/plain": [
       "31"
      ]
     },
     "execution_count": 8,
     "metadata": {},
     "output_type": "execute_result"
    }
   ],
   "source": [
    "# Считаем количество городов в наборе данных:\n",
    "len(df.city.value_counts())"
   ]
  },
  {
   "cell_type": "markdown",
   "metadata": {},
   "source": [
    "price_range\n",
    "Диапазон цен в ресторане имеет три варианта значений:\n",
    "\n",
    "    $ - низкий\n",
    "    $$ - $$$ - средний\n",
    "    $$$$ - высокий\n"
   ]
  },
  {
   "cell_type": "code",
   "execution_count": 9,
   "metadata": {},
   "outputs": [
    {
     "data": {
      "text/plain": [
       "restaurant_id            18412\n",
       "city                     18412\n",
       "cuisine_style            18412\n",
       "ranking                  18412\n",
       "rating                   18412\n",
       "price_range              18412\n",
       "number_of_reviews        18412\n",
       "reviews                  18412\n",
       "url_ta                   18412\n",
       "id_ta                    18412\n",
       "number_of_reviews_NaN    18412\n",
       "dtype: int64"
      ]
     },
     "execution_count": 9,
     "metadata": {},
     "output_type": "execute_result"
    }
   ],
   "source": [
    "df[df['price_range']=='$$ - $$$'].count()\n"
   ]
  },
  {
   "cell_type": "code",
   "execution_count": 10,
   "metadata": {},
   "outputs": [
    {
     "data": {
      "text/html": [
       "<div>\n",
       "<style scoped>\n",
       "    .dataframe tbody tr th:only-of-type {\n",
       "        vertical-align: middle;\n",
       "    }\n",
       "\n",
       "    .dataframe tbody tr th {\n",
       "        vertical-align: top;\n",
       "    }\n",
       "\n",
       "    .dataframe thead th {\n",
       "        text-align: right;\n",
       "    }\n",
       "</style>\n",
       "<table border=\"1\" class=\"dataframe\">\n",
       "  <thead>\n",
       "    <tr style=\"text-align: right;\">\n",
       "      <th></th>\n",
       "      <th>restaurant_id</th>\n",
       "      <th>city</th>\n",
       "      <th>cuisine_style</th>\n",
       "      <th>ranking</th>\n",
       "      <th>rating</th>\n",
       "      <th>price_range</th>\n",
       "      <th>number_of_reviews</th>\n",
       "      <th>reviews</th>\n",
       "      <th>url_ta</th>\n",
       "      <th>id_ta</th>\n",
       "      <th>number_of_reviews_NaN</th>\n",
       "    </tr>\n",
       "  </thead>\n",
       "  <tbody>\n",
       "    <tr>\n",
       "      <th>0</th>\n",
       "      <td>id_5569</td>\n",
       "      <td>Paris</td>\n",
       "      <td>['European', 'French', 'International']</td>\n",
       "      <td>5570.0</td>\n",
       "      <td>3.5</td>\n",
       "      <td>2</td>\n",
       "      <td>194.0</td>\n",
       "      <td>[['Good food at your doorstep', 'A good hotel ...</td>\n",
       "      <td>/Restaurant_Review-g187147-d1912643-Reviews-R_...</td>\n",
       "      <td>d1912643</td>\n",
       "      <td>False</td>\n",
       "    </tr>\n",
       "    <tr>\n",
       "      <th>1</th>\n",
       "      <td>id_1535</td>\n",
       "      <td>Stockholm</td>\n",
       "      <td>NaN</td>\n",
       "      <td>1537.0</td>\n",
       "      <td>4.0</td>\n",
       "      <td>0</td>\n",
       "      <td>10.0</td>\n",
       "      <td>[['Unique cuisine', 'Delicious Nepalese food']...</td>\n",
       "      <td>/Restaurant_Review-g189852-d7992032-Reviews-Bu...</td>\n",
       "      <td>d7992032</td>\n",
       "      <td>False</td>\n",
       "    </tr>\n",
       "    <tr>\n",
       "      <th>2</th>\n",
       "      <td>id_352</td>\n",
       "      <td>London</td>\n",
       "      <td>['Japanese', 'Sushi', 'Asian', 'Grill', 'Veget...</td>\n",
       "      <td>353.0</td>\n",
       "      <td>4.5</td>\n",
       "      <td>3</td>\n",
       "      <td>688.0</td>\n",
       "      <td>[['Catch up with friends', 'Not exceptional'],...</td>\n",
       "      <td>/Restaurant_Review-g186338-d8632781-Reviews-RO...</td>\n",
       "      <td>d8632781</td>\n",
       "      <td>False</td>\n",
       "    </tr>\n",
       "    <tr>\n",
       "      <th>3</th>\n",
       "      <td>id_3456</td>\n",
       "      <td>Berlin</td>\n",
       "      <td>NaN</td>\n",
       "      <td>3458.0</td>\n",
       "      <td>5.0</td>\n",
       "      <td>0</td>\n",
       "      <td>3.0</td>\n",
       "      <td>[[], []]</td>\n",
       "      <td>/Restaurant_Review-g187323-d1358776-Reviews-Es...</td>\n",
       "      <td>d1358776</td>\n",
       "      <td>False</td>\n",
       "    </tr>\n",
       "    <tr>\n",
       "      <th>4</th>\n",
       "      <td>id_615</td>\n",
       "      <td>Munich</td>\n",
       "      <td>['German', 'Central European', 'Vegetarian Fri...</td>\n",
       "      <td>621.0</td>\n",
       "      <td>4.0</td>\n",
       "      <td>2</td>\n",
       "      <td>84.0</td>\n",
       "      <td>[['Best place to try a Bavarian food', 'Nice b...</td>\n",
       "      <td>/Restaurant_Review-g187309-d6864963-Reviews-Au...</td>\n",
       "      <td>d6864963</td>\n",
       "      <td>False</td>\n",
       "    </tr>\n",
       "    <tr>\n",
       "      <th>5</th>\n",
       "      <td>id_1418</td>\n",
       "      <td>Oporto</td>\n",
       "      <td>NaN</td>\n",
       "      <td>1419.0</td>\n",
       "      <td>3.0</td>\n",
       "      <td>0</td>\n",
       "      <td>2.0</td>\n",
       "      <td>[['There are better 3 star hotel bars', 'Amazi...</td>\n",
       "      <td>/Restaurant_Review-g189180-d12503536-Reviews-D...</td>\n",
       "      <td>d12503536</td>\n",
       "      <td>False</td>\n",
       "    </tr>\n",
       "    <tr>\n",
       "      <th>6</th>\n",
       "      <td>id_1720</td>\n",
       "      <td>Milan</td>\n",
       "      <td>['Italian', 'Pizza']</td>\n",
       "      <td>1722.0</td>\n",
       "      <td>4.0</td>\n",
       "      <td>1</td>\n",
       "      <td>50.0</td>\n",
       "      <td>[['Excellent simple local eatery.', 'Excellent...</td>\n",
       "      <td>/Restaurant_Review-g187849-d5808504-Reviews-Pi...</td>\n",
       "      <td>d5808504</td>\n",
       "      <td>False</td>\n",
       "    </tr>\n",
       "    <tr>\n",
       "      <th>7</th>\n",
       "      <td>id_825</td>\n",
       "      <td>Bratislava</td>\n",
       "      <td>['Italian']</td>\n",
       "      <td>826.0</td>\n",
       "      <td>3.0</td>\n",
       "      <td>0</td>\n",
       "      <td>9.0</td>\n",
       "      <td>[['Wasting of money', 'excellent cuisine'], ['...</td>\n",
       "      <td>/Restaurant_Review-g274924-d3199765-Reviews-Ri...</td>\n",
       "      <td>d3199765</td>\n",
       "      <td>False</td>\n",
       "    </tr>\n",
       "    <tr>\n",
       "      <th>8</th>\n",
       "      <td>id_2690</td>\n",
       "      <td>Vienna</td>\n",
       "      <td>NaN</td>\n",
       "      <td>2692.0</td>\n",
       "      <td>4.0</td>\n",
       "      <td>0</td>\n",
       "      <td>33.0</td>\n",
       "      <td>[[], []]</td>\n",
       "      <td>/Restaurant_Review-g190454-d12845029-Reviews-G...</td>\n",
       "      <td>d12845029</td>\n",
       "      <td>True</td>\n",
       "    </tr>\n",
       "    <tr>\n",
       "      <th>9</th>\n",
       "      <td>id_4209</td>\n",
       "      <td>Rome</td>\n",
       "      <td>['Italian', 'Pizza', 'Fast Food']</td>\n",
       "      <td>4210.0</td>\n",
       "      <td>4.0</td>\n",
       "      <td>1</td>\n",
       "      <td>55.0</td>\n",
       "      <td>[['Clean efficient staff', 'Nice little pizza ...</td>\n",
       "      <td>/Restaurant_Review-g187791-d8020681-Reviews-Qu...</td>\n",
       "      <td>d8020681</td>\n",
       "      <td>False</td>\n",
       "    </tr>\n",
       "    <tr>\n",
       "      <th>10</th>\n",
       "      <td>id_6578</td>\n",
       "      <td>Barcelona</td>\n",
       "      <td>NaN</td>\n",
       "      <td>6579.0</td>\n",
       "      <td>3.0</td>\n",
       "      <td>0</td>\n",
       "      <td>6.0</td>\n",
       "      <td>[[], []]</td>\n",
       "      <td>/Restaurant_Review-g187497-d10696479-Reviews-R...</td>\n",
       "      <td>d10696479</td>\n",
       "      <td>False</td>\n",
       "    </tr>\n",
       "    <tr>\n",
       "      <th>11</th>\n",
       "      <td>id_5312</td>\n",
       "      <td>London</td>\n",
       "      <td>['Italian', 'Pizza', 'Vegetarian Friendly']</td>\n",
       "      <td>5321.0</td>\n",
       "      <td>4.0</td>\n",
       "      <td>2</td>\n",
       "      <td>42.0</td>\n",
       "      <td>[['Not bad for Canary Wharf', 'To be a pilgrim...</td>\n",
       "      <td>/Restaurant_Review-g186338-d12402429-Reviews-P...</td>\n",
       "      <td>d12402429</td>\n",
       "      <td>False</td>\n",
       "    </tr>\n",
       "    <tr>\n",
       "      <th>12</th>\n",
       "      <td>id_4066</td>\n",
       "      <td>London</td>\n",
       "      <td>['Italian', 'Pizza', 'Vegetarian Friendly', 'G...</td>\n",
       "      <td>4073.0</td>\n",
       "      <td>3.5</td>\n",
       "      <td>2</td>\n",
       "      <td>286.0</td>\n",
       "      <td>[['Great service, good za', 'Lovely, relaxed a...</td>\n",
       "      <td>/Restaurant_Review-g186338-d2259559-Reviews-Ma...</td>\n",
       "      <td>d2259559</td>\n",
       "      <td>False</td>\n",
       "    </tr>\n",
       "    <tr>\n",
       "      <th>13</th>\n",
       "      <td>id_4637</td>\n",
       "      <td>Berlin</td>\n",
       "      <td>['Vegetarian Friendly', 'Gluten Free Options']</td>\n",
       "      <td>4639.0</td>\n",
       "      <td>4.5</td>\n",
       "      <td>2</td>\n",
       "      <td>10.0</td>\n",
       "      <td>[['What a great spot!', 'Healthy superfoods, v...</td>\n",
       "      <td>/Restaurant_Review-g187323-d12107166-Reviews-L...</td>\n",
       "      <td>d12107166</td>\n",
       "      <td>False</td>\n",
       "    </tr>\n",
       "    <tr>\n",
       "      <th>14</th>\n",
       "      <td>id_4773</td>\n",
       "      <td>Madrid</td>\n",
       "      <td>['Mediterranean', 'Spanish', 'Healthy']</td>\n",
       "      <td>4776.0</td>\n",
       "      <td>4.0</td>\n",
       "      <td>2</td>\n",
       "      <td>7.0</td>\n",
       "      <td>[[], []]</td>\n",
       "      <td>/Restaurant_Review-g187514-d10859423-Reviews-B...</td>\n",
       "      <td>d10859423</td>\n",
       "      <td>False</td>\n",
       "    </tr>\n",
       "  </tbody>\n",
       "</table>\n",
       "</div>"
      ],
      "text/plain": [
       "   restaurant_id        city  \\\n",
       "0        id_5569       Paris   \n",
       "1        id_1535   Stockholm   \n",
       "2         id_352      London   \n",
       "3        id_3456      Berlin   \n",
       "4         id_615      Munich   \n",
       "5        id_1418      Oporto   \n",
       "6        id_1720       Milan   \n",
       "7         id_825  Bratislava   \n",
       "8        id_2690      Vienna   \n",
       "9        id_4209        Rome   \n",
       "10       id_6578   Barcelona   \n",
       "11       id_5312      London   \n",
       "12       id_4066      London   \n",
       "13       id_4637      Berlin   \n",
       "14       id_4773      Madrid   \n",
       "\n",
       "                                        cuisine_style  ranking  rating  \\\n",
       "0             ['European', 'French', 'International']   5570.0     3.5   \n",
       "1                                                 NaN   1537.0     4.0   \n",
       "2   ['Japanese', 'Sushi', 'Asian', 'Grill', 'Veget...    353.0     4.5   \n",
       "3                                                 NaN   3458.0     5.0   \n",
       "4   ['German', 'Central European', 'Vegetarian Fri...    621.0     4.0   \n",
       "5                                                 NaN   1419.0     3.0   \n",
       "6                                ['Italian', 'Pizza']   1722.0     4.0   \n",
       "7                                         ['Italian']    826.0     3.0   \n",
       "8                                                 NaN   2692.0     4.0   \n",
       "9                   ['Italian', 'Pizza', 'Fast Food']   4210.0     4.0   \n",
       "10                                                NaN   6579.0     3.0   \n",
       "11        ['Italian', 'Pizza', 'Vegetarian Friendly']   5321.0     4.0   \n",
       "12  ['Italian', 'Pizza', 'Vegetarian Friendly', 'G...   4073.0     3.5   \n",
       "13     ['Vegetarian Friendly', 'Gluten Free Options']   4639.0     4.5   \n",
       "14            ['Mediterranean', 'Spanish', 'Healthy']   4776.0     4.0   \n",
       "\n",
       "    price_range  number_of_reviews  \\\n",
       "0             2              194.0   \n",
       "1             0               10.0   \n",
       "2             3              688.0   \n",
       "3             0                3.0   \n",
       "4             2               84.0   \n",
       "5             0                2.0   \n",
       "6             1               50.0   \n",
       "7             0                9.0   \n",
       "8             0               33.0   \n",
       "9             1               55.0   \n",
       "10            0                6.0   \n",
       "11            2               42.0   \n",
       "12            2              286.0   \n",
       "13            2               10.0   \n",
       "14            2                7.0   \n",
       "\n",
       "                                              reviews  \\\n",
       "0   [['Good food at your doorstep', 'A good hotel ...   \n",
       "1   [['Unique cuisine', 'Delicious Nepalese food']...   \n",
       "2   [['Catch up with friends', 'Not exceptional'],...   \n",
       "3                                            [[], []]   \n",
       "4   [['Best place to try a Bavarian food', 'Nice b...   \n",
       "5   [['There are better 3 star hotel bars', 'Amazi...   \n",
       "6   [['Excellent simple local eatery.', 'Excellent...   \n",
       "7   [['Wasting of money', 'excellent cuisine'], ['...   \n",
       "8                                            [[], []]   \n",
       "9   [['Clean efficient staff', 'Nice little pizza ...   \n",
       "10                                           [[], []]   \n",
       "11  [['Not bad for Canary Wharf', 'To be a pilgrim...   \n",
       "12  [['Great service, good za', 'Lovely, relaxed a...   \n",
       "13  [['What a great spot!', 'Healthy superfoods, v...   \n",
       "14                                           [[], []]   \n",
       "\n",
       "                                               url_ta      id_ta  \\\n",
       "0   /Restaurant_Review-g187147-d1912643-Reviews-R_...   d1912643   \n",
       "1   /Restaurant_Review-g189852-d7992032-Reviews-Bu...   d7992032   \n",
       "2   /Restaurant_Review-g186338-d8632781-Reviews-RO...   d8632781   \n",
       "3   /Restaurant_Review-g187323-d1358776-Reviews-Es...   d1358776   \n",
       "4   /Restaurant_Review-g187309-d6864963-Reviews-Au...   d6864963   \n",
       "5   /Restaurant_Review-g189180-d12503536-Reviews-D...  d12503536   \n",
       "6   /Restaurant_Review-g187849-d5808504-Reviews-Pi...   d5808504   \n",
       "7   /Restaurant_Review-g274924-d3199765-Reviews-Ri...   d3199765   \n",
       "8   /Restaurant_Review-g190454-d12845029-Reviews-G...  d12845029   \n",
       "9   /Restaurant_Review-g187791-d8020681-Reviews-Qu...   d8020681   \n",
       "10  /Restaurant_Review-g187497-d10696479-Reviews-R...  d10696479   \n",
       "11  /Restaurant_Review-g186338-d12402429-Reviews-P...  d12402429   \n",
       "12  /Restaurant_Review-g186338-d2259559-Reviews-Ma...   d2259559   \n",
       "13  /Restaurant_Review-g187323-d12107166-Reviews-L...  d12107166   \n",
       "14  /Restaurant_Review-g187514-d10859423-Reviews-B...  d10859423   \n",
       "\n",
       "    number_of_reviews_NaN  \n",
       "0                   False  \n",
       "1                   False  \n",
       "2                   False  \n",
       "3                   False  \n",
       "4                   False  \n",
       "5                   False  \n",
       "6                   False  \n",
       "7                   False  \n",
       "8                    True  \n",
       "9                   False  \n",
       "10                  False  \n",
       "11                  False  \n",
       "12                  False  \n",
       "13                  False  \n",
       "14                  False  "
      ]
     },
     "execution_count": 10,
     "metadata": {},
     "output_type": "execute_result"
    }
   ],
   "source": [
    "\n",
    "def price(s):\n",
    "    if s == '$':\n",
    "        return 1\n",
    "    elif s == '$$ - $$$':\n",
    "        return 2\n",
    "    elif s == '$$$$':\n",
    "        return 3\n",
    "    else:\n",
    "        return 0\n",
    "\n",
    "df['price_range']= df['price_range'].apply(lambda x: price(x))\n",
    "df.head(15)"
   ]
  },
  {
   "cell_type": "code",
   "execution_count": 11,
   "metadata": {},
   "outputs": [
    {
     "data": {
      "text/plain": [
       "6467     2\n",
       "33500    1\n",
       "34254    2\n",
       "20689    1\n",
       "4251     0\n",
       "Name: price_range, dtype: int64"
      ]
     },
     "execution_count": 11,
     "metadata": {},
     "output_type": "execute_result"
    }
   ],
   "source": [
    "df.price_range.sample(5)"
   ]
  },
  {
   "cell_type": "markdown",
   "metadata": {},
   "source": [
    "for index,i in enumerate(data['Price Range']):\n",
    "    data['Price Range'][index]=price_range[i]\n",
    "data['Price Range']\n",
    "\n"
   ]
  },
  {
   "cell_type": "markdown",
   "metadata": {},
   "source": [
    "cuisine_style"
   ]
  },
  {
   "cell_type": "code",
   "execution_count": 12,
   "metadata": {},
   "outputs": [
    {
     "data": {
      "text/plain": [
       "12504                         ['Italian', 'Mediterranean']\n",
       "16276                              ['Vegetarian Friendly']\n",
       "23991                            ['American', 'Fast Food']\n",
       "15605    ['Italian', 'Pizza', 'Mediterranean', 'Egyptian']\n",
       "37692                                                  NaN\n",
       "Name: cuisine_style, dtype: object"
      ]
     },
     "execution_count": 12,
     "metadata": {},
     "output_type": "execute_result"
    }
   ],
   "source": [
    "df.cuisine_style.sample(5)\n",
    "\n"
   ]
  },
  {
   "cell_type": "code",
   "execution_count": 13,
   "metadata": {},
   "outputs": [],
   "source": [
    "#Заполнение пустых значений\n",
    "df.cuisine_style.fillna('[nan]', inplace=True)"
   ]
  },
  {
   "cell_type": "code",
   "execution_count": 14,
   "metadata": {},
   "outputs": [],
   "source": [
    "# конвертируем строки в списки\n",
    "\n",
    "df.cuisine_style = df.cuisine_style.apply(lambda x: x if pd.isna(x)\n",
    "                              else x[2:-2])\n",
    "\n",
    "df.cuisine_style = df.cuisine_style.apply(lambda x: x if pd.isna(x)\n",
    "                              else x.split(\"', '\"))"
   ]
  },
  {
   "cell_type": "code",
   "execution_count": 15,
   "metadata": {},
   "outputs": [],
   "source": [
    "df['number_of_cuisines'] = df.cuisine_style.apply(lambda x: len(x))"
   ]
  },
  {
   "cell_type": "code",
   "execution_count": 16,
   "metadata": {},
   "outputs": [
    {
     "data": {
      "text/plain": [
       "['Vegetarian Friendly',\n",
       " 'European',\n",
       " 'a',\n",
       " 'Mediterranean',\n",
       " 'Italian',\n",
       " 'Vegan Options',\n",
       " 'Gluten Free Options',\n",
       " 'Bar',\n",
       " 'French',\n",
       " 'Asian',\n",
       " 'Pizza',\n",
       " 'Spanish',\n",
       " 'Pub',\n",
       " 'Cafe',\n",
       " 'Fast Food',\n",
       " 'British',\n",
       " 'International',\n",
       " 'Seafood',\n",
       " 'Japanese',\n",
       " 'Central European',\n",
       " 'American',\n",
       " 'Sushi',\n",
       " 'Chinese',\n",
       " 'Portuguese',\n",
       " 'Indian',\n",
       " 'Middle Eastern',\n",
       " 'Thai',\n",
       " 'Wine Bar',\n",
       " 'German',\n",
       " 'Healthy',\n",
       " 'Greek',\n",
       " 'Halal',\n",
       " 'Czech',\n",
       " 'Fusion',\n",
       " 'Steakhouse',\n",
       " 'Barbecue',\n",
       " 'Contemporary',\n",
       " 'Vietnamese',\n",
       " 'Eastern European',\n",
       " 'Soups',\n",
       " 'Grill',\n",
       " 'Gastropub',\n",
       " 'Mexican',\n",
       " 'Turkish',\n",
       " 'Delicatessen',\n",
       " 'Austrian',\n",
       " 'South American',\n",
       " 'Polish',\n",
       " 'Hungarian',\n",
       " 'Scandinavian',\n",
       " 'Lebanese',\n",
       " 'Latin',\n",
       " 'Diner',\n",
       " 'Dutch',\n",
       " 'Irish',\n",
       " 'Belgian',\n",
       " 'Street Food',\n",
       " 'Brew Pub',\n",
       " 'Swiss',\n",
       " 'Danish',\n",
       " 'Swedish',\n",
       " 'Argentinean',\n",
       " 'Korean',\n",
       " 'Scottish',\n",
       " 'African',\n",
       " 'Moroccan',\n",
       " 'Central American',\n",
       " 'Brazilian',\n",
       " 'Pakistani',\n",
       " 'Peruvian',\n",
       " 'Caribbean',\n",
       " 'Nepali',\n",
       " 'Balti',\n",
       " 'Bangladeshi',\n",
       " 'Norwegian',\n",
       " 'Israeli',\n",
       " 'Slovenian',\n",
       " 'Indonesian',\n",
       " 'Russian',\n",
       " 'Persian',\n",
       " 'Arabic',\n",
       " 'Kosher',\n",
       " 'Ethiopian',\n",
       " 'Venezuelan',\n",
       " 'Malaysian',\n",
       " 'Croatian',\n",
       " 'Sri Lankan',\n",
       " 'Jamaican',\n",
       " 'Tibetan',\n",
       " 'Australian',\n",
       " 'Cuban',\n",
       " 'Taiwanese',\n",
       " 'Afghani',\n",
       " 'Hawaiian',\n",
       " 'Tunisian',\n",
       " 'Egyptian',\n",
       " 'Cajun & Creole',\n",
       " 'Cambodian',\n",
       " 'Colombian',\n",
       " 'Singaporean',\n",
       " 'Ukrainian',\n",
       " 'Georgian',\n",
       " 'Southwestern',\n",
       " 'Mongolian',\n",
       " 'Armenian',\n",
       " 'Central Asian',\n",
       " 'Filipino',\n",
       " 'Minority Chinese',\n",
       " 'Romanian',\n",
       " 'Chilean',\n",
       " 'Albanian',\n",
       " 'New Zealand',\n",
       " 'Canadian',\n",
       " 'Uzbek',\n",
       " 'Native American',\n",
       " 'Caucasian',\n",
       " 'Ecuadorean',\n",
       " 'Fujian',\n",
       " 'Azerbaijani',\n",
       " 'Welsh',\n",
       " 'Polynesian',\n",
       " 'Salvadoran',\n",
       " 'Latvian',\n",
       " 'Yunnan',\n",
       " 'Burmese',\n",
       " 'Xinjiang']"
      ]
     },
     "execution_count": 16,
     "metadata": {},
     "output_type": "execute_result"
    }
   ],
   "source": [
    "\n",
    "cuisine_values = df.cuisine_style.explode().value_counts()\n",
    "cuisine_list = [x for x in cuisine_values.index]\n",
    "cuisine_list"
   ]
  },
  {
   "cell_type": "code",
   "execution_count": 17,
   "metadata": {},
   "outputs": [],
   "source": [
    "group_city_cuisine = df.groupby(['city'])['cuisine_style'].sum().reset_index()\n",
    " "
   ]
  },
  {
   "cell_type": "code",
   "execution_count": 18,
   "metadata": {},
   "outputs": [],
   "source": [
    "#df.groupby('Pclass')['Age'].apply(lambda x:x.fillna(x.mean()))"
   ]
  },
  {
   "cell_type": "code",
   "execution_count": 19,
   "metadata": {},
   "outputs": [],
   "source": [
    "import collections"
   ]
  },
  {
   "cell_type": "code",
   "execution_count": 20,
   "metadata": {},
   "outputs": [
    {
     "name": "stdout",
     "output_type": "stream",
     "text": [
      "[('Vegetarian Friendly', 11189), ('European', 10060), ('a', 9283), ('Mediterranean', 6277), ('Italian', 5964), ('Vegan Options', 4486), ('Gluten Free Options', 4113), ('Bar', 3297), ('French', 3190), ('Asian', 3011)]\n",
      "\n",
      "[('Ecuadorean', 4), ('Polynesian', 2), ('Azerbaijani', 2), ('Welsh', 2), ('Fujian', 2), ('Yunnan', 1), ('Latvian', 1), ('Burmese', 1), ('Salvadoran', 1), ('Xinjiang', 1)]\n"
     ]
    }
   ],
   "source": [
    "c = collections.Counter()\n",
    "\n",
    "for cuisine_style in group_city_cuisine.cuisine_style:\n",
    "    for x in cuisine_style:\n",
    "        c[x] += 1\n",
    "\n",
    "print(c.most_common(10))\n",
    "print()\n",
    "print(c.most_common()[-10:])"
   ]
  },
  {
   "cell_type": "code",
   "execution_count": 21,
   "metadata": {},
   "outputs": [
    {
     "data": {
      "text/plain": [
       "restaurant_id            0\n",
       "city                     0\n",
       "cuisine_style            0\n",
       "ranking                  0\n",
       "rating                   0\n",
       "price_range              0\n",
       "number_of_reviews        0\n",
       "reviews                  0\n",
       "url_ta                   0\n",
       "id_ta                    0\n",
       "number_of_reviews_NaN    0\n",
       "number_of_cuisines       0\n",
       "dtype: int64"
      ]
     },
     "execution_count": 21,
     "metadata": {},
     "output_type": "execute_result"
    }
   ],
   "source": [
    "df.isnull().sum()"
   ]
  },
  {
   "cell_type": "code",
   "execution_count": 22,
   "metadata": {},
   "outputs": [],
   "source": [
    "def processing_reviews(df):\n",
    "    \"\"\"\n",
    "    Функция разбирает строку с комментарием и датой \n",
    "    и помещает комментарии и даты в 4 новые колонки \n",
    "    2 для комментариев и 2 для дат\n",
    "    \n",
    "    \"\"\"\n",
    "    \n",
    "    \n",
    "    reviews_fb_1 = []\n",
    "    reviews_fb_2 = []\n",
    "    reviews_date_1 = []\n",
    "    reviews_date_2 = []\n",
    "    \n",
    "    for index, row in df.iterrows():\n",
    "        str_review = ast.literal_eval(str(row['reviews'].replace('nan','0')))   # Разбили строку с комментарием на пополам (комменты/даты)\n",
    "        \n",
    "        if str_review == [[], []]:\n",
    "            reviews_fb_1.append('')\n",
    "            reviews_fb_2.append('')\n",
    "            reviews_date_1.append('undefined')\n",
    "            reviews_date_2.append('undefined')\n",
    "        else:\n",
    "            reviews_fb_1.append(str_review[0][0])\n",
    "            reviews_date_1.append(datetime.strptime(str_review[1][0],'%m/%d/%Y')) \n",
    "            if len(str_review[0]) == 1:\n",
    "                reviews_fb_2.append('')\n",
    "                reviews_date_2.append('undefined')\n",
    "            else:\n",
    "                reviews_fb_2.append(str_review[0][1])\n",
    "                reviews_date_2.append(datetime.strptime(str_review[1][1],'%m/%d/%Y'))\n",
    "\n",
    "    df['reviews_fb_1'] = reviews_fb_1\n",
    "    df['reviews_fb_2'] = reviews_fb_2\n",
    "    df['reviews_date_1'] = reviews_date_1\n",
    "    df['reviews_date_2'] = reviews_date_2\n",
    "\n",
    "\n",
    "processing_reviews(df)"
   ]
  },
  {
   "cell_type": "code",
   "execution_count": 23,
   "metadata": {},
   "outputs": [
    {
     "data": {
      "text/plain": [
       "0          41\n",
       "1         382\n",
       "2           2\n",
       "3           0\n",
       "4         272\n",
       "         ... \n",
       "39995      34\n",
       "39996       9\n",
       "39997    3127\n",
       "39998      23\n",
       "39999    1306\n",
       "Name: distance_between_reviews, Length: 40000, dtype: int64"
      ]
     },
     "execution_count": 23,
     "metadata": {},
     "output_type": "execute_result"
    }
   ],
   "source": [
    "def get_difference(d1,d2):\n",
    "    if type(d1) and type(d2) == datetime:\n",
    "        return (d1-d2).days\n",
    "    else:\n",
    "        return 0\n",
    "\n",
    "df['distance_between_reviews'] = df.apply(lambda x: get_difference(x['reviews_date_1'],x['reviews_date_2']),axis=1)\n",
    "\n",
    "# сразу посмотрим\n",
    "\n",
    "df['distance_between_reviews']"
   ]
  },
  {
   "cell_type": "code",
   "execution_count": 24,
   "metadata": {},
   "outputs": [
    {
     "data": {
      "text/plain": [
       "0        2017-11-20 00:00:00\n",
       "1        2016-06-19 00:00:00\n",
       "2        2018-01-06 00:00:00\n",
       "3                  undefined\n",
       "4        2017-02-19 00:00:00\n",
       "                ...         \n",
       "39995    2017-11-12 00:00:00\n",
       "39996    2017-12-12 00:00:00\n",
       "39997    2008-04-12 00:00:00\n",
       "39998    2017-06-18 00:00:00\n",
       "39999    2012-07-04 00:00:00\n",
       "Name: reviews_date_2, Length: 40000, dtype: object"
      ]
     },
     "execution_count": 24,
     "metadata": {},
     "output_type": "execute_result"
    }
   ],
   "source": [
    "df.reviews_date_2"
   ]
  },
  {
   "cell_type": "code",
   "execution_count": 25,
   "metadata": {},
   "outputs": [],
   "source": [
    "def get_prescription(d1,d2):\n",
    "    if type(d1) and type(d2) == datetime:\n",
    "        if d2 > d1:\n",
    "            max_date = d2\n",
    "        else:\n",
    "            max_date = d1\n",
    "        \n",
    "        return (datetime.now() - max_date).days\n",
    "    else:\n",
    "        return 0\n",
    "\n",
    "df['prescription'] = df.apply(lambda x: get_prescription(x['reviews_date_1'],x['reviews_date_2']),axis=1)"
   ]
  },
  {
   "cell_type": "code",
   "execution_count": 26,
   "metadata": {},
   "outputs": [],
   "source": [
    "def last_review(d1,d2):\n",
    "    if type(d1) and type(d2) == datetime:\n",
    "        if d2 > d1:\n",
    "            max_date = d2\n",
    "        else:\n",
    "            max_date = d1\n",
    "        \n",
    "        return max_date\n",
    "df['prescription'] = df.apply(lambda x: last_review(x['reviews_date_1'],x['reviews_date_2']),axis=1)"
   ]
  },
  {
   "cell_type": "code",
   "execution_count": 27,
   "metadata": {},
   "outputs": [
    {
     "data": {
      "text/plain": [
       "17447   2018-02-26\n",
       "26781   2018-02-26\n",
       "22880   2018-02-26\n",
       "37689   2018-02-26\n",
       "38749   2018-02-26\n",
       "           ...    \n",
       "39986          NaT\n",
       "39988          NaT\n",
       "39989          NaT\n",
       "39991          NaT\n",
       "39994          NaT\n",
       "Name: prescription, Length: 40000, dtype: datetime64[ns]"
      ]
     },
     "execution_count": 27,
     "metadata": {},
     "output_type": "execute_result"
    }
   ],
   "source": [
    "df['prescription'].sort_values(ascending=False)"
   ]
  },
  {
   "cell_type": "code",
   "execution_count": null,
   "metadata": {},
   "outputs": [],
   "source": []
  },
  {
   "cell_type": "code",
   "execution_count": 28,
   "metadata": {},
   "outputs": [
    {
     "data": {
      "text/plain": [
       "0          41\n",
       "1         382\n",
       "2           2\n",
       "3           0\n",
       "4         272\n",
       "         ... \n",
       "39995      34\n",
       "39996       9\n",
       "39997    3127\n",
       "39998      23\n",
       "39999    1306\n",
       "Name: distance_between_reviews, Length: 40000, dtype: int64"
      ]
     },
     "execution_count": 28,
     "metadata": {},
     "output_type": "execute_result"
    }
   ],
   "source": [
    "\n",
    "def get_difference(d1,d2):\n",
    "    if type(d1) and type(d2) == datetime:\n",
    "        return (d1-d2).days\n",
    "    else:\n",
    "        return 0\n",
    "\n",
    "df['distance_between_reviews'] = df.apply(lambda x: get_difference(x['reviews_date_1'],x['reviews_date_2']),axis=1)\n",
    "\n",
    "# сразу посмотрим\n",
    "\n",
    "df['distance_between_reviews']"
   ]
  },
  {
   "cell_type": "markdown",
   "metadata": {},
   "source": [
    "\n",
    "\n"
   ]
  },
  {
   "cell_type": "code",
   "execution_count": 29,
   "metadata": {},
   "outputs": [
    {
     "name": "stdout",
     "output_type": "stream",
     "text": [
      "<class 'pandas.core.frame.DataFrame'>\n",
      "RangeIndex: 40000 entries, 0 to 39999\n",
      "Data columns (total 18 columns):\n",
      " #   Column                    Non-Null Count  Dtype         \n",
      "---  ------                    --------------  -----         \n",
      " 0   restaurant_id             40000 non-null  object        \n",
      " 1   city                      40000 non-null  object        \n",
      " 2   cuisine_style             40000 non-null  object        \n",
      " 3   ranking                   40000 non-null  float64       \n",
      " 4   rating                    40000 non-null  float64       \n",
      " 5   price_range               40000 non-null  int64         \n",
      " 6   number_of_reviews         40000 non-null  float64       \n",
      " 7   reviews                   40000 non-null  object        \n",
      " 8   url_ta                    40000 non-null  object        \n",
      " 9   id_ta                     40000 non-null  object        \n",
      " 10  number_of_reviews_NaN     40000 non-null  bool          \n",
      " 11  number_of_cuisines        40000 non-null  int64         \n",
      " 12  reviews_fb_1              40000 non-null  object        \n",
      " 13  reviews_fb_2              40000 non-null  object        \n",
      " 14  reviews_date_1            40000 non-null  object        \n",
      " 15  reviews_date_2            40000 non-null  object        \n",
      " 16  distance_between_reviews  40000 non-null  int64         \n",
      " 17  prescription              28973 non-null  datetime64[ns]\n",
      "dtypes: bool(1), datetime64[ns](1), float64(3), int64(3), object(10)\n",
      "memory usage: 5.2+ MB\n"
     ]
    }
   ],
   "source": [
    "\n",
    "df.info()\n",
    "df['number_of_reviews'].fillna(0,inplace = True)"
   ]
  },
  {
   "cell_type": "code",
   "execution_count": 30,
   "metadata": {},
   "outputs": [],
   "source": [
    "Restaurants_in_City = df.city.value_counts()"
   ]
  },
  {
   "cell_type": "code",
   "execution_count": 31,
   "metadata": {},
   "outputs": [],
   "source": [
    "df['Restaurants_in_City'] = df.city.apply(lambda x: Restaurants_in_City[x])"
   ]
  },
  {
   "cell_type": "code",
   "execution_count": 32,
   "metadata": {},
   "outputs": [],
   "source": [
    "def restaurants_in_city(data):\n",
    "    Restaurants_in_city = df.city.value_counts()\n",
    "    df['Restaurants_in_city'] = df.city.apply(lambda x: Restaurants_in_city[x])\n",
    "    return data"
   ]
  },
  {
   "cell_type": "code",
   "execution_count": 33,
   "metadata": {},
   "outputs": [
    {
     "name": "stdout",
     "output_type": "stream",
     "text": [
      "<class 'pandas.core.frame.DataFrame'>\n",
      "RangeIndex: 40000 entries, 0 to 39999\n",
      "Data columns (total 19 columns):\n",
      " #   Column                    Non-Null Count  Dtype         \n",
      "---  ------                    --------------  -----         \n",
      " 0   restaurant_id             40000 non-null  object        \n",
      " 1   city                      40000 non-null  object        \n",
      " 2   cuisine_style             40000 non-null  object        \n",
      " 3   ranking                   40000 non-null  float64       \n",
      " 4   rating                    40000 non-null  float64       \n",
      " 5   price_range               40000 non-null  int64         \n",
      " 6   number_of_reviews         40000 non-null  float64       \n",
      " 7   reviews                   40000 non-null  object        \n",
      " 8   url_ta                    40000 non-null  object        \n",
      " 9   id_ta                     40000 non-null  object        \n",
      " 10  number_of_reviews_NaN     40000 non-null  bool          \n",
      " 11  number_of_cuisines        40000 non-null  int64         \n",
      " 12  reviews_fb_1              40000 non-null  object        \n",
      " 13  reviews_fb_2              40000 non-null  object        \n",
      " 14  reviews_date_1            40000 non-null  object        \n",
      " 15  reviews_date_2            40000 non-null  object        \n",
      " 16  distance_between_reviews  40000 non-null  int64         \n",
      " 17  prescription              28973 non-null  datetime64[ns]\n",
      " 18  Restaurants_in_City       40000 non-null  int64         \n",
      "dtypes: bool(1), datetime64[ns](1), float64(3), int64(4), object(10)\n",
      "memory usage: 5.5+ MB\n"
     ]
    }
   ],
   "source": [
    "df.info()"
   ]
  },
  {
   "cell_type": "code",
   "execution_count": 34,
   "metadata": {},
   "outputs": [],
   "source": [
    "# для One-Hot Encoding в pandas есть готовая функция - get_dummies. \n",
    "df = pd.get_dummies(df, columns=[ 'city',], dummy_na=True)"
   ]
  },
  {
   "cell_type": "code",
   "execution_count": 35,
   "metadata": {},
   "outputs": [
    {
     "name": "stdout",
     "output_type": "stream",
     "text": [
      "<class 'pandas.core.frame.DataFrame'>\n",
      "RangeIndex: 40000 entries, 0 to 39999\n",
      "Data columns (total 50 columns):\n",
      " #   Column                    Non-Null Count  Dtype         \n",
      "---  ------                    --------------  -----         \n",
      " 0   restaurant_id             40000 non-null  object        \n",
      " 1   cuisine_style             40000 non-null  object        \n",
      " 2   ranking                   40000 non-null  float64       \n",
      " 3   rating                    40000 non-null  float64       \n",
      " 4   price_range               40000 non-null  int64         \n",
      " 5   number_of_reviews         40000 non-null  float64       \n",
      " 6   reviews                   40000 non-null  object        \n",
      " 7   url_ta                    40000 non-null  object        \n",
      " 8   id_ta                     40000 non-null  object        \n",
      " 9   number_of_reviews_NaN     40000 non-null  bool          \n",
      " 10  number_of_cuisines        40000 non-null  int64         \n",
      " 11  reviews_fb_1              40000 non-null  object        \n",
      " 12  reviews_fb_2              40000 non-null  object        \n",
      " 13  reviews_date_1            40000 non-null  object        \n",
      " 14  reviews_date_2            40000 non-null  object        \n",
      " 15  distance_between_reviews  40000 non-null  int64         \n",
      " 16  prescription              28973 non-null  datetime64[ns]\n",
      " 17  Restaurants_in_City       40000 non-null  int64         \n",
      " 18  city_Amsterdam            40000 non-null  uint8         \n",
      " 19  city_Athens               40000 non-null  uint8         \n",
      " 20  city_Barcelona            40000 non-null  uint8         \n",
      " 21  city_Berlin               40000 non-null  uint8         \n",
      " 22  city_Bratislava           40000 non-null  uint8         \n",
      " 23  city_Brussels             40000 non-null  uint8         \n",
      " 24  city_Budapest             40000 non-null  uint8         \n",
      " 25  city_Copenhagen           40000 non-null  uint8         \n",
      " 26  city_Dublin               40000 non-null  uint8         \n",
      " 27  city_Edinburgh            40000 non-null  uint8         \n",
      " 28  city_Geneva               40000 non-null  uint8         \n",
      " 29  city_Hamburg              40000 non-null  uint8         \n",
      " 30  city_Helsinki             40000 non-null  uint8         \n",
      " 31  city_Krakow               40000 non-null  uint8         \n",
      " 32  city_Lisbon               40000 non-null  uint8         \n",
      " 33  city_Ljubljana            40000 non-null  uint8         \n",
      " 34  city_London               40000 non-null  uint8         \n",
      " 35  city_Luxembourg           40000 non-null  uint8         \n",
      " 36  city_Lyon                 40000 non-null  uint8         \n",
      " 37  city_Madrid               40000 non-null  uint8         \n",
      " 38  city_Milan                40000 non-null  uint8         \n",
      " 39  city_Munich               40000 non-null  uint8         \n",
      " 40  city_Oporto               40000 non-null  uint8         \n",
      " 41  city_Oslo                 40000 non-null  uint8         \n",
      " 42  city_Paris                40000 non-null  uint8         \n",
      " 43  city_Prague               40000 non-null  uint8         \n",
      " 44  city_Rome                 40000 non-null  uint8         \n",
      " 45  city_Stockholm            40000 non-null  uint8         \n",
      " 46  city_Vienna               40000 non-null  uint8         \n",
      " 47  city_Warsaw               40000 non-null  uint8         \n",
      " 48  city_Zurich               40000 non-null  uint8         \n",
      " 49  city_nan                  40000 non-null  uint8         \n",
      "dtypes: bool(1), datetime64[ns](1), float64(3), int64(4), object(9), uint8(32)\n",
      "memory usage: 6.4+ MB\n"
     ]
    }
   ],
   "source": [
    "df.info()"
   ]
  },
  {
   "cell_type": "code",
   "execution_count": 36,
   "metadata": {},
   "outputs": [],
   "source": [
    "df=df.drop([ 'restaurant_id','cuisine_style','reviews','url_ta','id_ta', 'reviews_fb_1', 'reviews_fb_2','reviews_date_1','reviews_date_2','prescription'], axis = 1)"
   ]
  },
  {
   "cell_type": "code",
   "execution_count": 37,
   "metadata": {},
   "outputs": [
    {
     "name": "stdout",
     "output_type": "stream",
     "text": [
      "<class 'pandas.core.frame.DataFrame'>\n",
      "RangeIndex: 40000 entries, 0 to 39999\n",
      "Data columns (total 40 columns):\n",
      " #   Column                    Non-Null Count  Dtype  \n",
      "---  ------                    --------------  -----  \n",
      " 0   ranking                   40000 non-null  float64\n",
      " 1   rating                    40000 non-null  float64\n",
      " 2   price_range               40000 non-null  int64  \n",
      " 3   number_of_reviews         40000 non-null  float64\n",
      " 4   number_of_reviews_NaN     40000 non-null  bool   \n",
      " 5   number_of_cuisines        40000 non-null  int64  \n",
      " 6   distance_between_reviews  40000 non-null  int64  \n",
      " 7   Restaurants_in_City       40000 non-null  int64  \n",
      " 8   city_Amsterdam            40000 non-null  uint8  \n",
      " 9   city_Athens               40000 non-null  uint8  \n",
      " 10  city_Barcelona            40000 non-null  uint8  \n",
      " 11  city_Berlin               40000 non-null  uint8  \n",
      " 12  city_Bratislava           40000 non-null  uint8  \n",
      " 13  city_Brussels             40000 non-null  uint8  \n",
      " 14  city_Budapest             40000 non-null  uint8  \n",
      " 15  city_Copenhagen           40000 non-null  uint8  \n",
      " 16  city_Dublin               40000 non-null  uint8  \n",
      " 17  city_Edinburgh            40000 non-null  uint8  \n",
      " 18  city_Geneva               40000 non-null  uint8  \n",
      " 19  city_Hamburg              40000 non-null  uint8  \n",
      " 20  city_Helsinki             40000 non-null  uint8  \n",
      " 21  city_Krakow               40000 non-null  uint8  \n",
      " 22  city_Lisbon               40000 non-null  uint8  \n",
      " 23  city_Ljubljana            40000 non-null  uint8  \n",
      " 24  city_London               40000 non-null  uint8  \n",
      " 25  city_Luxembourg           40000 non-null  uint8  \n",
      " 26  city_Lyon                 40000 non-null  uint8  \n",
      " 27  city_Madrid               40000 non-null  uint8  \n",
      " 28  city_Milan                40000 non-null  uint8  \n",
      " 29  city_Munich               40000 non-null  uint8  \n",
      " 30  city_Oporto               40000 non-null  uint8  \n",
      " 31  city_Oslo                 40000 non-null  uint8  \n",
      " 32  city_Paris                40000 non-null  uint8  \n",
      " 33  city_Prague               40000 non-null  uint8  \n",
      " 34  city_Rome                 40000 non-null  uint8  \n",
      " 35  city_Stockholm            40000 non-null  uint8  \n",
      " 36  city_Vienna               40000 non-null  uint8  \n",
      " 37  city_Warsaw               40000 non-null  uint8  \n",
      " 38  city_Zurich               40000 non-null  uint8  \n",
      " 39  city_nan                  40000 non-null  uint8  \n",
      "dtypes: bool(1), float64(3), int64(4), uint8(32)\n",
      "memory usage: 3.4 MB\n"
     ]
    }
   ],
   "source": [
    "df.info()"
   ]
  },
  {
   "cell_type": "markdown",
   "metadata": {},
   "source": [
    "# Разбиваем датафрейм на части, необходимые для обучения и тестирования модели"
   ]
  },
  {
   "cell_type": "code",
   "execution_count": 38,
   "metadata": {},
   "outputs": [],
   "source": [
    "# Х - данные с информацией о ресторанах, у - целевая переменная (рейтинги ресторанов)\n",
    "X = df.drop(['rating'], axis = 1)\n",
    "y = df['rating']"
   ]
  },
  {
   "cell_type": "code",
   "execution_count": 39,
   "metadata": {},
   "outputs": [],
   "source": [
    "# Загружаем специальный инструмент для разбивки:\n",
    "from sklearn.model_selection import train_test_split"
   ]
  },
  {
   "cell_type": "code",
   "execution_count": 40,
   "metadata": {},
   "outputs": [],
   "source": [
    "# Наборы данных с меткой \"train\" будут использоваться для обучения модели, \"test\" - для тестирования.\n",
    "# Для тестирования мы будем использовать 25% от исходного датасета.\n",
    "X_train, X_test, y_train, y_test = train_test_split(X, y, test_size=0.25)"
   ]
  },
  {
   "cell_type": "markdown",
   "metadata": {},
   "source": [
    "# Создаём, обучаем и тестируем модель"
   ]
  },
  {
   "cell_type": "code",
   "execution_count": 41,
   "metadata": {},
   "outputs": [],
   "source": [
    "# Импортируем необходимые библиотеки:\n",
    "from sklearn.ensemble import RandomForestRegressor # инструмент для создания и обучения модели\n",
    "from sklearn import metrics # инструменты для оценки точности модели"
   ]
  },
  {
   "cell_type": "code",
   "execution_count": 42,
   "metadata": {},
   "outputs": [],
   "source": [
    "# Создаём модель\n",
    "regr = RandomForestRegressor(n_estimators=100)\n",
    "\n",
    "# Обучаем модель на тестовом наборе данных\n",
    "regr.fit(X_train, y_train)\n",
    "\n",
    "# Используем обученную модель для предсказания рейтинга ресторанов в тестовой выборке.\n",
    "# Предсказанные значения записываем в переменную y_pred\n",
    "y_pred = regr.predict(X_test)"
   ]
  },
  {
   "cell_type": "code",
   "execution_count": 43,
   "metadata": {},
   "outputs": [
    {
     "name": "stdout",
     "output_type": "stream",
     "text": [
      "MAE: 0.2089895\n"
     ]
    }
   ],
   "source": [
    "# Сравниваем предсказанные значения (y_pred) с реальными (y_test), и смотрим насколько они в среднем отличаются\n",
    "# Метрика называется Mean Absolute Error (MAE) и показывает среднее отклонение предсказанных значений от фактических.\n",
    "print('MAE:', metrics.mean_absolute_error(y_test, y_pred))"
   ]
  }
 ],
 "metadata": {
  "kernelspec": {
   "display_name": "Python 3",
   "language": "python",
   "name": "python3"
  },
  "language_info": {
   "codemirror_mode": {
    "name": "ipython",
    "version": 3
   },
   "file_extension": ".py",
   "mimetype": "text/x-python",
   "name": "python",
   "nbconvert_exporter": "python",
   "pygments_lexer": "ipython3",
   "version": "3.8.3"
  }
 },
 "nbformat": 4,
 "nbformat_minor": 2
}
